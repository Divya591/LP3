{
  "nbformat": 4,
  "nbformat_minor": 0,
  "metadata": {
    "colab": {
      "provenance": [],
      "authorship_tag": "ABX9TyN3er4GlSCIfZbEXtT/sqtj",
      "include_colab_link": true
    },
    "kernelspec": {
      "name": "python3",
      "display_name": "Python 3"
    },
    "language_info": {
      "name": "python"
    }
  },
  "cells": [
    {
      "cell_type": "markdown",
      "metadata": {
        "id": "view-in-github",
        "colab_type": "text"
      },
      "source": [
        "<a href=\"https://colab.research.google.com/github/Divya591/LP3/blob/main/ML_A2.ipynb\" target=\"_parent\"><img src=\"https://colab.research.google.com/assets/colab-badge.svg\" alt=\"Open In Colab\"/></a>"
      ]
    },
    {
      "cell_type": "code",
      "source": [
        "current_x =2\n",
        "\n",
        "rate = 0.01\n",
        "\n",
        "precision = 0.000001\n",
        "\n",
        "previous_step_size = 1\n",
        "\n",
        "max_iters = 1000\n",
        "\n",
        "iters = 0\n"
      ],
      "metadata": {
        "id": "s_5WPksfVyGw"
      },
      "execution_count": 4,
      "outputs": []
    },
    {
      "cell_type": "code",
      "source": [
        "df = lambda x: 2*(x+3)"
      ],
      "metadata": {
        "id": "yM4xeAiuWSQ9"
      },
      "execution_count": 5,
      "outputs": []
    },
    {
      "cell_type": "code",
      "source": [
        "values  = []"
      ],
      "metadata": {
        "id": "uuKW-s8eWX5X"
      },
      "execution_count": 6,
      "outputs": []
    },
    {
      "cell_type": "code",
      "source": [
        "while previous_step_size > precision and iters< max_iters:\n",
        "    previous_x = current_x\n",
        "    current_x = current_x - rate * df(previous_x)\n",
        "    previous_step_size = abs(current_x - previous_x)\n",
        "    iters = iters +1\n",
        "    values.append(current_x)"
      ],
      "metadata": {
        "id": "Y0oPpU-7WcJZ"
      },
      "execution_count": 7,
      "outputs": []
    },
    {
      "cell_type": "code",
      "source": [
        "print(\"The local minimum occurs at:\",current_x)"
      ],
      "metadata": {
        "colab": {
          "base_uri": "https://localhost:8080/"
        },
        "id": "_VkTzwliWiJn",
        "outputId": "e9417528-72e5-4ccb-a647-31b66c83fabf"
      },
      "execution_count": 8,
      "outputs": [
        {
          "output_type": "stream",
          "name": "stdout",
          "text": [
            "The local minimum occurs at: -2.999951128099859\n"
          ]
        }
      ]
    },
    {
      "cell_type": "code",
      "source": [
        "import matplotlib.pyplot as plt"
      ],
      "metadata": {
        "id": "xdOuDrl-Wp4m"
      },
      "execution_count": 10,
      "outputs": []
    },
    {
      "cell_type": "code",
      "source": [
        "plt.plot(values)\n",
        "plt.show()"
      ],
      "metadata": {
        "colab": {
          "base_uri": "https://localhost:8080/",
          "height": 265
        },
        "id": "Kr0Ej1PwWuVb",
        "outputId": "9cf09c76-f80a-4267-85c6-f7786126cfe2"
      },
      "execution_count": 11,
      "outputs": [
        {
          "output_type": "display_data",
          "data": {
            "text/plain": [
              "<Figure size 432x288 with 1 Axes>"
            ],
            "image/png": "[encoded data removed]"
          },
          "metadata": {
            "needs_background": "light"
          }
        }
      ]
    }
  ]
}